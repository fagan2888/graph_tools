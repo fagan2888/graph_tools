{
 "metadata": {
  "name": "",
  "signature": "sha256:e40762ea1e3f0f89a837e237c036a88000562bba8f2c6a0a3fb8b519143d0d41"
 },
 "nbformat": 3,
 "nbformat_minor": 0,
 "worksheets": [
  {
   "cells": [
    {
     "cell_type": "code",
     "collapsed": false,
     "input": [
      "import numpy as np\n",
      "from graph_tools import Digraph"
     ],
     "language": "python",
     "metadata": {},
     "outputs": [],
     "prompt_number": 1
    },
    {
     "cell_type": "code",
     "collapsed": false,
     "input": [
      "g0 = Digraph([[0, 1], [1, 0]])"
     ],
     "language": "python",
     "metadata": {},
     "outputs": [],
     "prompt_number": 2
    },
    {
     "cell_type": "code",
     "collapsed": false,
     "input": [
      "g0.period()"
     ],
     "language": "python",
     "metadata": {},
     "outputs": [
      {
       "metadata": {},
       "output_type": "pyout",
       "prompt_number": 3,
       "text": [
        "(2, array([0, 1]))"
       ]
      }
     ],
     "prompt_number": 3
    },
    {
     "cell_type": "code",
     "collapsed": false,
     "input": [
      "g1 = Digraph([[1, 0], [0, 1]])"
     ],
     "language": "python",
     "metadata": {},
     "outputs": [],
     "prompt_number": 4
    },
    {
     "cell_type": "code",
     "collapsed": false,
     "input": [
      "g1.period()"
     ],
     "language": "python",
     "metadata": {},
     "outputs": [
      {
       "ename": "NotImplementedError",
       "evalue": "period is not defined for a reducible graph",
       "output_type": "pyerr",
       "traceback": [
        "\u001b[0;31m---------------------------------------------------------------------------\u001b[0m\n\u001b[0;31mNotImplementedError\u001b[0m                       Traceback (most recent call last)",
        "\u001b[0;32m<ipython-input-5-344d066ea13f>\u001b[0m in \u001b[0;36m<module>\u001b[0;34m()\u001b[0m\n\u001b[0;32m----> 1\u001b[0;31m \u001b[0mg1\u001b[0m\u001b[0;34m.\u001b[0m\u001b[0mperiod\u001b[0m\u001b[0;34m(\u001b[0m\u001b[0;34m)\u001b[0m\u001b[0;34m\u001b[0m\u001b[0m\n\u001b[0m",
        "\u001b[0;32m/Users/oyama/Dropbox/Development/graph_tools/graph_tools.pyc\u001b[0m in \u001b[0;36mperiod\u001b[0;34m(self)\u001b[0m\n\u001b[1;32m    157\u001b[0m         \u001b[0;32mif\u001b[0m \u001b[0;32mnot\u001b[0m \u001b[0mself\u001b[0m\u001b[0;34m.\u001b[0m\u001b[0mis_strongly_connected\u001b[0m\u001b[0;34m:\u001b[0m\u001b[0;34m\u001b[0m\u001b[0m\n\u001b[1;32m    158\u001b[0m             raise NotImplementedError(\n\u001b[0;32m--> 159\u001b[0;31m                 \u001b[0;34m'period is not defined for a reducible graph'\u001b[0m\u001b[0;34m\u001b[0m\u001b[0m\n\u001b[0m\u001b[1;32m    160\u001b[0m                 )\n\u001b[1;32m    161\u001b[0m \u001b[0;34m\u001b[0m\u001b[0m\n",
        "\u001b[0;31mNotImplementedError\u001b[0m: period is not defined for a reducible graph"
       ]
      }
     ],
     "prompt_number": 5
    },
    {
     "cell_type": "code",
     "collapsed": false,
     "input": [
      "g1.is_strongly_connected"
     ],
     "language": "python",
     "metadata": {},
     "outputs": [
      {
       "metadata": {},
       "output_type": "pyout",
       "prompt_number": 7,
       "text": [
        "False"
       ]
      }
     ],
     "prompt_number": 7
    },
    {
     "cell_type": "code",
     "collapsed": false,
     "input": [
      "g1.comm_classes()"
     ],
     "language": "python",
     "metadata": {},
     "outputs": [
      {
       "metadata": {},
       "output_type": "pyout",
       "prompt_number": 8,
       "text": [
        "[[0], [1]]"
       ]
      }
     ],
     "prompt_number": 8
    },
    {
     "cell_type": "code",
     "collapsed": false,
     "input": [
      "g1.rec_classes()"
     ],
     "language": "python",
     "metadata": {},
     "outputs": [
      {
       "metadata": {},
       "output_type": "pyout",
       "prompt_number": 9,
       "text": [
        "[[0], [1]]"
       ]
      }
     ],
     "prompt_number": 9
    },
    {
     "cell_type": "code",
     "collapsed": false,
     "input": [
      "A = np.zeros((11, 11))\n",
      "A[0, [1, 5]] = 1\n",
      "A[1, [2, 10]] = 1\n",
      "A[2, 7] = 1\n",
      "A[3, 4] = 1\n",
      "A[4, 5] = 1\n",
      "A[5, [2, 6]] = 1\n",
      "A[6, [7, 8]] = 1\n",
      "A[7, 4] = 1\n",
      "A[8, 0] = 1\n",
      "A[9, 4] = 1\n",
      "A[10, [3, 8, 9]] = 1"
     ],
     "language": "python",
     "metadata": {},
     "outputs": [],
     "prompt_number": 10
    },
    {
     "cell_type": "code",
     "collapsed": false,
     "input": [
      "A"
     ],
     "language": "python",
     "metadata": {},
     "outputs": [
      {
       "metadata": {},
       "output_type": "pyout",
       "prompt_number": 11,
       "text": [
        "array([[ 0.,  1.,  0.,  0.,  0.,  1.,  0.,  0.,  0.,  0.,  0.],\n",
        "       [ 0.,  0.,  1.,  0.,  0.,  0.,  0.,  0.,  0.,  0.,  1.],\n",
        "       [ 0.,  0.,  0.,  0.,  0.,  0.,  0.,  1.,  0.,  0.,  0.],\n",
        "       [ 0.,  0.,  0.,  0.,  1.,  0.,  0.,  0.,  0.,  0.,  0.],\n",
        "       [ 0.,  0.,  0.,  0.,  0.,  1.,  0.,  0.,  0.,  0.,  0.],\n",
        "       [ 0.,  0.,  1.,  0.,  0.,  0.,  1.,  0.,  0.,  0.,  0.],\n",
        "       [ 0.,  0.,  0.,  0.,  0.,  0.,  0.,  1.,  1.,  0.,  0.],\n",
        "       [ 0.,  0.,  0.,  0.,  1.,  0.,  0.,  0.,  0.,  0.,  0.],\n",
        "       [ 1.,  0.,  0.,  0.,  0.,  0.,  0.,  0.,  0.,  0.,  0.],\n",
        "       [ 0.,  0.,  0.,  0.,  1.,  0.,  0.,  0.,  0.,  0.,  0.],\n",
        "       [ 0.,  0.,  0.,  1.,  0.,  0.,  0.,  0.,  1.,  1.,  0.]])"
       ]
      }
     ],
     "prompt_number": 11
    },
    {
     "cell_type": "code",
     "collapsed": false,
     "input": [
      "g2 = Digraph(A)"
     ],
     "language": "python",
     "metadata": {},
     "outputs": [],
     "prompt_number": 12
    },
    {
     "cell_type": "code",
     "collapsed": false,
     "input": [
      "d, cyc_classes_labels = g2.period()\n",
      "print d\n",
      "print cyc_classes_labels"
     ],
     "language": "python",
     "metadata": {},
     "outputs": [
      {
       "output_type": "stream",
       "stream": "stdout",
       "text": [
        "4\n",
        "[0 1 2 3 0 1 2 3 3 3 2]\n"
       ]
      }
     ],
     "prompt_number": 13
    },
    {
     "cell_type": "code",
     "collapsed": false,
     "input": [
      "order = cyc_classes_labels.argsort()\n",
      "print order"
     ],
     "language": "python",
     "metadata": {},
     "outputs": [
      {
       "output_type": "stream",
       "stream": "stdout",
       "text": [
        "[ 0  4  1  5  2  6 10  3  7  8  9]\n"
       ]
      }
     ],
     "prompt_number": 14
    },
    {
     "cell_type": "code",
     "collapsed": false,
     "input": [
      "# Cyclic normal form of A\n",
      "A[order, :][:, order]"
     ],
     "language": "python",
     "metadata": {},
     "outputs": [
      {
       "metadata": {},
       "output_type": "pyout",
       "prompt_number": 15,
       "text": [
        "array([[ 0.,  0.,  1.,  1.,  0.,  0.,  0.,  0.,  0.,  0.,  0.],\n",
        "       [ 0.,  0.,  0.,  1.,  0.,  0.,  0.,  0.,  0.,  0.,  0.],\n",
        "       [ 0.,  0.,  0.,  0.,  1.,  0.,  1.,  0.,  0.,  0.,  0.],\n",
        "       [ 0.,  0.,  0.,  0.,  1.,  1.,  0.,  0.,  0.,  0.,  0.],\n",
        "       [ 0.,  0.,  0.,  0.,  0.,  0.,  0.,  0.,  1.,  0.,  0.],\n",
        "       [ 0.,  0.,  0.,  0.,  0.,  0.,  0.,  0.,  1.,  1.,  0.],\n",
        "       [ 0.,  0.,  0.,  0.,  0.,  0.,  0.,  1.,  0.,  1.,  1.],\n",
        "       [ 0.,  1.,  0.,  0.,  0.,  0.,  0.,  0.,  0.,  0.,  0.],\n",
        "       [ 0.,  1.,  0.,  0.,  0.,  0.,  0.,  0.,  0.,  0.,  0.],\n",
        "       [ 1.,  0.,  0.,  0.,  0.,  0.,  0.,  0.,  0.,  0.,  0.],\n",
        "       [ 0.,  1.,  0.,  0.,  0.,  0.,  0.,  0.,  0.,  0.,  0.]])"
       ]
      }
     ],
     "prompt_number": 15
    },
    {
     "cell_type": "code",
     "collapsed": false,
     "input": [
      "# Make A be a stochastic matrix\n",
      "B = A[order, :][:, order]\n",
      "B /= np.sum(B, axis=1, keepdims=True)"
     ],
     "language": "python",
     "metadata": {},
     "outputs": [],
     "prompt_number": 16
    },
    {
     "cell_type": "code",
     "collapsed": false,
     "input": [
      "np.set_printoptions(precision=2)"
     ],
     "language": "python",
     "metadata": {},
     "outputs": [],
     "prompt_number": 17
    },
    {
     "cell_type": "code",
     "collapsed": false,
     "input": [
      "print B"
     ],
     "language": "python",
     "metadata": {},
     "outputs": [
      {
       "output_type": "stream",
       "stream": "stdout",
       "text": [
        "[[ 0.    0.    0.5   0.5   0.    0.    0.    0.    0.    0.    0.  ]\n",
        " [ 0.    0.    0.    1.    0.    0.    0.    0.    0.    0.    0.  ]\n",
        " [ 0.    0.    0.    0.    0.5   0.    0.5   0.    0.    0.    0.  ]\n",
        " [ 0.    0.    0.    0.    0.5   0.5   0.    0.    0.    0.    0.  ]\n",
        " [ 0.    0.    0.    0.    0.    0.    0.    0.    1.    0.    0.  ]\n",
        " [ 0.    0.    0.    0.    0.    0.    0.    0.    0.5   0.5   0.  ]\n",
        " [ 0.    0.    0.    0.    0.    0.    0.    0.33  0.    0.33  0.33]\n",
        " [ 0.    1.    0.    0.    0.    0.    0.    0.    0.    0.    0.  ]\n",
        " [ 0.    1.    0.    0.    0.    0.    0.    0.    0.    0.    0.  ]\n",
        " [ 1.    0.    0.    0.    0.    0.    0.    0.    0.    0.    0.  ]\n",
        " [ 0.    1.    0.    0.    0.    0.    0.    0.    0.    0.    0.  ]]\n"
       ]
      }
     ],
     "prompt_number": 18
    },
    {
     "cell_type": "code",
     "collapsed": false,
     "input": [
      "print np.linalg.matrix_power(B, 5)"
     ],
     "language": "python",
     "metadata": {},
     "outputs": [
      {
       "output_type": "stream",
       "stream": "stdout",
       "text": [
        "[[ 0.    0.    0.1   0.9   0.    0.    0.    0.    0.    0.    0.  ]\n",
        " [ 0.    0.    0.12  0.88  0.    0.    0.    0.    0.    0.    0.  ]\n",
        " [ 0.    0.    0.    0.    0.5   0.46  0.04  0.    0.    0.    0.  ]\n",
        " [ 0.    0.    0.    0.    0.5   0.44  0.06  0.    0.    0.    0.  ]\n",
        " [ 0.    0.    0.    0.    0.    0.    0.    0.    0.75  0.25  0.  ]\n",
        " [ 0.    0.    0.    0.    0.    0.    0.    0.04  0.69  0.23  0.04]\n",
        " [ 0.    0.    0.    0.    0.    0.    0.    0.03  0.71  0.24  0.03]\n",
        " [ 0.25  0.75  0.    0.    0.    0.    0.    0.    0.    0.    0.  ]\n",
        " [ 0.25  0.75  0.    0.    0.    0.    0.    0.    0.    0.    0.  ]\n",
        " [ 0.21  0.79  0.    0.    0.    0.    0.    0.    0.    0.    0.  ]\n",
        " [ 0.25  0.75  0.    0.    0.    0.    0.    0.    0.    0.    0.  ]]\n"
       ]
      }
     ],
     "prompt_number": 19
    },
    {
     "cell_type": "code",
     "collapsed": false,
     "input": [
      "C = np.linalg.matrix_power(B, 8)\n",
      "for k in range(5):\n",
      "    C = C.dot(B)\n",
      "    print 'B^{0} ='.format(9 + k)\n",
      "    print C, '\\n'"
     ],
     "language": "python",
     "metadata": {},
     "outputs": [
      {
       "output_type": "stream",
       "stream": "stdout",
       "text": [
        "B^9 =\n",
        "[[ 0.    0.    0.12  0.88  0.    0.    0.    0.    0.    0.    0.  ]\n",
        " [ 0.    0.    0.12  0.88  0.    0.    0.    0.    0.    0.    0.  ]\n",
        " [ 0.    0.    0.    0.    0.5   0.44  0.06  0.    0.    0.    0.  ]\n",
        " [ 0.    0.    0.    0.    0.5   0.44  0.06  0.    0.    0.    0.  ]\n",
        " [ 0.    0.    0.    0.    0.    0.    0.    0.02  0.72  0.24  0.02]\n",
        " [ 0.    0.    0.    0.    0.    0.    0.    0.02  0.72  0.24  0.02]\n",
        " [ 0.    0.    0.    0.    0.    0.    0.    0.02  0.72  0.24  0.02]\n",
        " [ 0.24  0.76  0.    0.    0.    0.    0.    0.    0.    0.    0.  ]\n",
        " [ 0.24  0.76  0.    0.    0.    0.    0.    0.    0.    0.    0.  ]\n",
        " [ 0.24  0.76  0.    0.    0.    0.    0.    0.    0.    0.    0.  ]\n",
        " [ 0.24  0.76  0.    0.    0.    0.    0.    0.    0.    0.    0.  ]] \n",
        "\n",
        "B^10 =\n",
        "[[ 0.    0.    0.    0.    0.5   0.44  0.06  0.    0.    0.    0.  ]\n",
        " [ 0.    0.    0.    0.    0.5   0.44  0.06  0.    0.    0.    0.  ]\n",
        " [ 0.    0.    0.    0.    0.    0.    0.    0.02  0.72  0.24  0.02]\n",
        " [ 0.    0.    0.    0.    0.    0.    0.    0.02  0.72  0.24  0.02]\n",
        " [ 0.24  0.76  0.    0.    0.    0.    0.    0.    0.    0.    0.  ]\n",
        " [ 0.24  0.76  0.    0.    0.    0.    0.    0.    0.    0.    0.  ]\n",
        " [ 0.24  0.76  0.    0.    0.    0.    0.    0.    0.    0.    0.  ]\n",
        " [ 0.    0.    0.12  0.88  0.    0.    0.    0.    0.    0.    0.  ]\n",
        " [ 0.    0.    0.12  0.88  0.    0.    0.    0.    0.    0.    0.  ]\n",
        " [ 0.    0.    0.12  0.88  0.    0.    0.    0.    0.    0.    0.  ]\n",
        " [ 0.    0.    0.12  0.88  0.    0.    0.    0.    0.    0.    0.  ]] \n",
        "\n",
        "B^11 =\n",
        "[[ 0.    0.    0.    0.    0.    0.    0.    0.02  0.72  0.24  0.02]\n",
        " [ 0.    0.    0.    0.    0.    0.    0.    0.02  0.72  0.24  0.02]\n",
        " [ 0.24  0.76  0.    0.    0.    0.    0.    0.    0.    0.    0.  ]\n",
        " [ 0.24  0.76  0.    0.    0.    0.    0.    0.    0.    0.    0.  ]\n",
        " [ 0.    0.    0.12  0.88  0.    0.    0.    0.    0.    0.    0.  ]\n",
        " [ 0.    0.    0.12  0.88  0.    0.    0.    0.    0.    0.    0.  ]\n",
        " [ 0.    0.    0.12  0.88  0.    0.    0.    0.    0.    0.    0.  ]\n",
        " [ 0.    0.    0.    0.    0.5   0.44  0.06  0.    0.    0.    0.  ]\n",
        " [ 0.    0.    0.    0.    0.5   0.44  0.06  0.    0.    0.    0.  ]\n",
        " [ 0.    0.    0.    0.    0.5   0.44  0.06  0.    0.    0.    0.  ]\n",
        " [ 0.    0.    0.    0.    0.5   0.44  0.06  0.    0.    0.    0.  ]] \n",
        "\n",
        "B^12 =\n",
        "[[ 0.24  0.76  0.    0.    0.    0.    0.    0.    0.    0.    0.  ]\n",
        " [ 0.24  0.76  0.    0.    0.    0.    0.    0.    0.    0.    0.  ]\n",
        " [ 0.    0.    0.12  0.88  0.    0.    0.    0.    0.    0.    0.  ]\n",
        " [ 0.    0.    0.12  0.88  0.    0.    0.    0.    0.    0.    0.  ]\n",
        " [ 0.    0.    0.    0.    0.5   0.44  0.06  0.    0.    0.    0.  ]\n",
        " [ 0.    0.    0.    0.    0.5   0.44  0.06  0.    0.    0.    0.  ]\n",
        " [ 0.    0.    0.    0.    0.5   0.44  0.06  0.    0.    0.    0.  ]\n",
        " [ 0.    0.    0.    0.    0.    0.    0.    0.02  0.72  0.24  0.02]\n",
        " [ 0.    0.    0.    0.    0.    0.    0.    0.02  0.72  0.24  0.02]\n",
        " [ 0.    0.    0.    0.    0.    0.    0.    0.02  0.72  0.24  0.02]\n",
        " [ 0.    0.    0.    0.    0.    0.    0.    0.02  0.72  0.24  0.02]] \n",
        "\n",
        "B^13 =\n",
        "[[ 0.    0.    0.12  0.88  0.    0.    0.    0.    0.    0.    0.  ]\n",
        " [ 0.    0.    0.12  0.88  0.    0.    0.    0.    0.    0.    0.  ]\n",
        " [ 0.    0.    0.    0.    0.5   0.44  0.06  0.    0.    0.    0.  ]\n",
        " [ 0.    0.    0.    0.    0.5   0.44  0.06  0.    0.    0.    0.  ]\n",
        " [ 0.    0.    0.    0.    0.    0.    0.    0.02  0.72  0.24  0.02]\n",
        " [ 0.    0.    0.    0.    0.    0.    0.    0.02  0.72  0.24  0.02]\n",
        " [ 0.    0.    0.    0.    0.    0.    0.    0.02  0.72  0.24  0.02]\n",
        " [ 0.24  0.76  0.    0.    0.    0.    0.    0.    0.    0.    0.  ]\n",
        " [ 0.24  0.76  0.    0.    0.    0.    0.    0.    0.    0.    0.  ]\n",
        " [ 0.24  0.76  0.    0.    0.    0.    0.    0.    0.    0.    0.  ]\n",
        " [ 0.24  0.76  0.    0.    0.    0.    0.    0.    0.    0.    0.  ]] \n",
        "\n"
       ]
      }
     ],
     "prompt_number": 20
    },
    {
     "cell_type": "code",
     "collapsed": false,
     "input": [],
     "language": "python",
     "metadata": {},
     "outputs": [],
     "prompt_number": 19
    }
   ],
   "metadata": {}
  }
 ]
}