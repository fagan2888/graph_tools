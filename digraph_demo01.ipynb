{
 "metadata": {
  "name": "",
  "signature": "sha256:7390951ddddafa344669df0fcc85eca8cfee04ae7bac4371b7c76be11cc59932"
 },
 "nbformat": 3,
 "nbformat_minor": 0,
 "worksheets": [
  {
   "cells": [
    {
     "cell_type": "code",
     "collapsed": false,
     "input": [
      "import numpy as np\n",
      "from graph_tools import DiGraph"
     ],
     "language": "python",
     "metadata": {},
     "outputs": [],
     "prompt_number": 1
    },
    {
     "cell_type": "code",
     "collapsed": false,
     "input": [
      "g0 = DiGraph([[0, 1], [1, 0]])"
     ],
     "language": "python",
     "metadata": {},
     "outputs": [],
     "prompt_number": 2
    },
    {
     "cell_type": "code",
     "collapsed": false,
     "input": [
      "g0.period"
     ],
     "language": "python",
     "metadata": {},
     "outputs": [
      {
       "metadata": {},
       "output_type": "pyout",
       "prompt_number": 3,
       "text": [
        "2"
       ]
      }
     ],
     "prompt_number": 3
    },
    {
     "cell_type": "code",
     "collapsed": false,
     "input": [
      "g1 = DiGraph([[1, 0], [0, 1]])"
     ],
     "language": "python",
     "metadata": {},
     "outputs": [],
     "prompt_number": 4
    },
    {
     "cell_type": "code",
     "collapsed": false,
     "input": [
      "g1.period"
     ],
     "language": "python",
     "metadata": {},
     "outputs": [
      {
       "ename": "NotImplementedError",
       "evalue": "Not defined for a non strongly-connected digraph",
       "output_type": "pyerr",
       "traceback": [
        "\u001b[0;31m---------------------------------------------------------------------------\u001b[0m\n\u001b[0;31mNotImplementedError\u001b[0m                       Traceback (most recent call last)",
        "\u001b[0;32m<ipython-input-5-fcb438375d72>\u001b[0m in \u001b[0;36m<module>\u001b[0;34m()\u001b[0m\n\u001b[0;32m----> 1\u001b[0;31m \u001b[0mg1\u001b[0m\u001b[0;34m.\u001b[0m\u001b[0mperiod\u001b[0m\u001b[0;34m\u001b[0m\u001b[0m\n\u001b[0m",
        "\u001b[0;32m/Users/oyama/Dropbox/Development/graph_tools/graph_tools.pyc\u001b[0m in \u001b[0;36mperiod\u001b[0;34m(self)\u001b[0m\n\u001b[1;32m    234\u001b[0m     \u001b[0;32mdef\u001b[0m \u001b[0mperiod\u001b[0m\u001b[0;34m(\u001b[0m\u001b[0mself\u001b[0m\u001b[0;34m)\u001b[0m\u001b[0;34m:\u001b[0m\u001b[0;34m\u001b[0m\u001b[0m\n\u001b[1;32m    235\u001b[0m         \u001b[0;32mif\u001b[0m \u001b[0mself\u001b[0m\u001b[0;34m.\u001b[0m\u001b[0m_period\u001b[0m \u001b[0;32mis\u001b[0m \u001b[0mNone\u001b[0m\u001b[0;34m:\u001b[0m\u001b[0;34m\u001b[0m\u001b[0m\n\u001b[0;32m--> 236\u001b[0;31m             \u001b[0mself\u001b[0m\u001b[0;34m.\u001b[0m\u001b[0m_compute_period\u001b[0m\u001b[0;34m(\u001b[0m\u001b[0;34m)\u001b[0m\u001b[0;34m\u001b[0m\u001b[0m\n\u001b[0m\u001b[1;32m    237\u001b[0m         \u001b[0;32mreturn\u001b[0m \u001b[0mself\u001b[0m\u001b[0;34m.\u001b[0m\u001b[0m_period\u001b[0m\u001b[0;34m\u001b[0m\u001b[0m\n\u001b[1;32m    238\u001b[0m \u001b[0;34m\u001b[0m\u001b[0m\n",
        "\u001b[0;32m/Users/oyama/Dropbox/Development/graph_tools/graph_tools.pyc\u001b[0m in \u001b[0;36m_compute_period\u001b[0;34m(self)\u001b[0m\n\u001b[1;32m    195\u001b[0m         \u001b[0;32mif\u001b[0m \u001b[0;32mnot\u001b[0m \u001b[0mself\u001b[0m\u001b[0;34m.\u001b[0m\u001b[0mis_strongly_connected\u001b[0m\u001b[0;34m:\u001b[0m\u001b[0;34m\u001b[0m\u001b[0m\n\u001b[1;32m    196\u001b[0m             raise NotImplementedError(\n\u001b[0;32m--> 197\u001b[0;31m                 \u001b[0;34m'Not defined for a non strongly-connected digraph'\u001b[0m\u001b[0;34m\u001b[0m\u001b[0m\n\u001b[0m\u001b[1;32m    198\u001b[0m             )\n\u001b[1;32m    199\u001b[0m \u001b[0;34m\u001b[0m\u001b[0m\n",
        "\u001b[0;31mNotImplementedError\u001b[0m: Not defined for a non strongly-connected digraph"
       ]
      }
     ],
     "prompt_number": 5
    },
    {
     "cell_type": "code",
     "collapsed": false,
     "input": [
      "g1.is_strongly_connected"
     ],
     "language": "python",
     "metadata": {},
     "outputs": [
      {
       "metadata": {},
       "output_type": "pyout",
       "prompt_number": 6,
       "text": [
        "False"
       ]
      }
     ],
     "prompt_number": 6
    },
    {
     "cell_type": "code",
     "collapsed": false,
     "input": [
      "g1.strongly_connected_components"
     ],
     "language": "python",
     "metadata": {},
     "outputs": [
      {
       "metadata": {},
       "output_type": "pyout",
       "prompt_number": 7,
       "text": [
        "[array([0]), array([1])]"
       ]
      }
     ],
     "prompt_number": 7
    },
    {
     "cell_type": "code",
     "collapsed": false,
     "input": [
      "g1.sink_strongly_connected_components"
     ],
     "language": "python",
     "metadata": {},
     "outputs": [
      {
       "metadata": {},
       "output_type": "pyout",
       "prompt_number": 8,
       "text": [
        "[array([0]), array([1])]"
       ]
      }
     ],
     "prompt_number": 8
    },
    {
     "cell_type": "code",
     "collapsed": false,
     "input": [
      "A = np.zeros((11, 11))\n",
      "A[0, [1, 5]] = 1\n",
      "A[1, [2, 10]] = 1\n",
      "A[2, 7] = 1\n",
      "A[3, 4] = 1\n",
      "A[4, 5] = 1\n",
      "A[5, [2, 6]] = 1\n",
      "A[6, [7, 8]] = 1\n",
      "A[7, 4] = 1\n",
      "A[8, 0] = 1\n",
      "A[9, 4] = 1\n",
      "A[10, [3, 8, 9]] = 1"
     ],
     "language": "python",
     "metadata": {},
     "outputs": [],
     "prompt_number": 9
    },
    {
     "cell_type": "code",
     "collapsed": false,
     "input": [
      "A"
     ],
     "language": "python",
     "metadata": {},
     "outputs": [
      {
       "metadata": {},
       "output_type": "pyout",
       "prompt_number": 10,
       "text": [
        "array([[ 0.,  1.,  0.,  0.,  0.,  1.,  0.,  0.,  0.,  0.,  0.],\n",
        "       [ 0.,  0.,  1.,  0.,  0.,  0.,  0.,  0.,  0.,  0.,  1.],\n",
        "       [ 0.,  0.,  0.,  0.,  0.,  0.,  0.,  1.,  0.,  0.,  0.],\n",
        "       [ 0.,  0.,  0.,  0.,  1.,  0.,  0.,  0.,  0.,  0.,  0.],\n",
        "       [ 0.,  0.,  0.,  0.,  0.,  1.,  0.,  0.,  0.,  0.,  0.],\n",
        "       [ 0.,  0.,  1.,  0.,  0.,  0.,  1.,  0.,  0.,  0.,  0.],\n",
        "       [ 0.,  0.,  0.,  0.,  0.,  0.,  0.,  1.,  1.,  0.,  0.],\n",
        "       [ 0.,  0.,  0.,  0.,  1.,  0.,  0.,  0.,  0.,  0.,  0.],\n",
        "       [ 1.,  0.,  0.,  0.,  0.,  0.,  0.,  0.,  0.,  0.,  0.],\n",
        "       [ 0.,  0.,  0.,  0.,  1.,  0.,  0.,  0.,  0.,  0.,  0.],\n",
        "       [ 0.,  0.,  0.,  1.,  0.,  0.,  0.,  0.,  1.,  1.,  0.]])"
       ]
      }
     ],
     "prompt_number": 10
    },
    {
     "cell_type": "code",
     "collapsed": false,
     "input": [
      "g2 = DiGraph(A)"
     ],
     "language": "python",
     "metadata": {},
     "outputs": [],
     "prompt_number": 11
    },
    {
     "cell_type": "code",
     "collapsed": false,
     "input": [
      "g2.period"
     ],
     "language": "python",
     "metadata": {},
     "outputs": [
      {
       "metadata": {},
       "output_type": "pyout",
       "prompt_number": 12,
       "text": [
        "4"
       ]
      }
     ],
     "prompt_number": 12
    },
    {
     "cell_type": "code",
     "collapsed": false,
     "input": [
      "cyclic_components = g2.cyclic_components\n",
      "print cyclic_components"
     ],
     "language": "python",
     "metadata": {},
     "outputs": [
      {
       "output_type": "stream",
       "stream": "stdout",
       "text": [
        "[array([0, 4]), array([1, 5]), array([ 2,  6, 10]), array([3, 7, 8, 9])]\n"
       ]
      }
     ],
     "prompt_number": 13
    },
    {
     "cell_type": "code",
     "collapsed": false,
     "input": [
      "permutation = [i for cyclic_component in cyclic_components for i in cyclic_component]\n",
      "print permutation"
     ],
     "language": "python",
     "metadata": {},
     "outputs": [
      {
       "output_type": "stream",
       "stream": "stdout",
       "text": [
        "[0, 4, 1, 5, 2, 6, 10, 3, 7, 8, 9]\n"
       ]
      }
     ],
     "prompt_number": 14
    },
    {
     "cell_type": "code",
     "collapsed": false,
     "input": [
      "g2._cyclic_components_proj"
     ],
     "language": "python",
     "metadata": {},
     "outputs": [
      {
       "metadata": {},
       "output_type": "pyout",
       "prompt_number": 15,
       "text": [
        "array([0, 1, 2, 3, 0, 1, 2, 3, 3, 3, 2])"
       ]
      }
     ],
     "prompt_number": 15
    },
    {
     "cell_type": "code",
     "collapsed": false,
     "input": [
      "g2._cyclic_components_proj.argsort()"
     ],
     "language": "python",
     "metadata": {},
     "outputs": [
      {
       "metadata": {},
       "output_type": "pyout",
       "prompt_number": 16,
       "text": [
        "array([ 0,  4,  1,  5,  2,  6, 10,  3,  7,  8,  9])"
       ]
      }
     ],
     "prompt_number": 16
    },
    {
     "cell_type": "code",
     "collapsed": false,
     "input": [
      "# Cyclic normal form of A\n",
      "A[permutation, :][:, permutation]"
     ],
     "language": "python",
     "metadata": {},
     "outputs": [
      {
       "metadata": {},
       "output_type": "pyout",
       "prompt_number": 17,
       "text": [
        "array([[ 0.,  0.,  1.,  1.,  0.,  0.,  0.,  0.,  0.,  0.,  0.],\n",
        "       [ 0.,  0.,  0.,  1.,  0.,  0.,  0.,  0.,  0.,  0.,  0.],\n",
        "       [ 0.,  0.,  0.,  0.,  1.,  0.,  1.,  0.,  0.,  0.,  0.],\n",
        "       [ 0.,  0.,  0.,  0.,  1.,  1.,  0.,  0.,  0.,  0.,  0.],\n",
        "       [ 0.,  0.,  0.,  0.,  0.,  0.,  0.,  0.,  1.,  0.,  0.],\n",
        "       [ 0.,  0.,  0.,  0.,  0.,  0.,  0.,  0.,  1.,  1.,  0.],\n",
        "       [ 0.,  0.,  0.,  0.,  0.,  0.,  0.,  1.,  0.,  1.,  1.],\n",
        "       [ 0.,  1.,  0.,  0.,  0.,  0.,  0.,  0.,  0.,  0.,  0.],\n",
        "       [ 0.,  1.,  0.,  0.,  0.,  0.,  0.,  0.,  0.,  0.,  0.],\n",
        "       [ 1.,  0.,  0.,  0.,  0.,  0.,  0.,  0.,  0.,  0.,  0.],\n",
        "       [ 0.,  1.,  0.,  0.,  0.,  0.,  0.,  0.,  0.,  0.,  0.]])"
       ]
      }
     ],
     "prompt_number": 17
    },
    {
     "cell_type": "code",
     "collapsed": false,
     "input": [
      "# Make A be a stochastic matrix\n",
      "B = A[permutation, :][:, permutation]\n",
      "B /= np.sum(B, axis=1, keepdims=True)"
     ],
     "language": "python",
     "metadata": {},
     "outputs": [],
     "prompt_number": 18
    },
    {
     "cell_type": "code",
     "collapsed": false,
     "input": [
      "np.set_printoptions(precision=2)"
     ],
     "language": "python",
     "metadata": {},
     "outputs": [],
     "prompt_number": 19
    },
    {
     "cell_type": "code",
     "collapsed": false,
     "input": [
      "print B"
     ],
     "language": "python",
     "metadata": {},
     "outputs": [
      {
       "output_type": "stream",
       "stream": "stdout",
       "text": [
        "[[ 0.    0.    0.5   0.5   0.    0.    0.    0.    0.    0.    0.  ]\n",
        " [ 0.    0.    0.    1.    0.    0.    0.    0.    0.    0.    0.  ]\n",
        " [ 0.    0.    0.    0.    0.5   0.    0.5   0.    0.    0.    0.  ]\n",
        " [ 0.    0.    0.    0.    0.5   0.5   0.    0.    0.    0.    0.  ]\n",
        " [ 0.    0.    0.    0.    0.    0.    0.    0.    1.    0.    0.  ]\n",
        " [ 0.    0.    0.    0.    0.    0.    0.    0.    0.5   0.5   0.  ]\n",
        " [ 0.    0.    0.    0.    0.    0.    0.    0.33  0.    0.33  0.33]\n",
        " [ 0.    1.    0.    0.    0.    0.    0.    0.    0.    0.    0.  ]\n",
        " [ 0.    1.    0.    0.    0.    0.    0.    0.    0.    0.    0.  ]\n",
        " [ 1.    0.    0.    0.    0.    0.    0.    0.    0.    0.    0.  ]\n",
        " [ 0.    1.    0.    0.    0.    0.    0.    0.    0.    0.    0.  ]]\n"
       ]
      }
     ],
     "prompt_number": 20
    },
    {
     "cell_type": "code",
     "collapsed": false,
     "input": [
      "print np.linalg.matrix_power(B, 5)"
     ],
     "language": "python",
     "metadata": {},
     "outputs": [
      {
       "output_type": "stream",
       "stream": "stdout",
       "text": [
        "[[ 0.    0.    0.1   0.9   0.    0.    0.    0.    0.    0.    0.  ]\n",
        " [ 0.    0.    0.12  0.88  0.    0.    0.    0.    0.    0.    0.  ]\n",
        " [ 0.    0.    0.    0.    0.5   0.46  0.04  0.    0.    0.    0.  ]\n",
        " [ 0.    0.    0.    0.    0.5   0.44  0.06  0.    0.    0.    0.  ]\n",
        " [ 0.    0.    0.    0.    0.    0.    0.    0.    0.75  0.25  0.  ]\n",
        " [ 0.    0.    0.    0.    0.    0.    0.    0.04  0.69  0.23  0.04]\n",
        " [ 0.    0.    0.    0.    0.    0.    0.    0.03  0.71  0.24  0.03]\n",
        " [ 0.25  0.75  0.    0.    0.    0.    0.    0.    0.    0.    0.  ]\n",
        " [ 0.25  0.75  0.    0.    0.    0.    0.    0.    0.    0.    0.  ]\n",
        " [ 0.21  0.79  0.    0.    0.    0.    0.    0.    0.    0.    0.  ]\n",
        " [ 0.25  0.75  0.    0.    0.    0.    0.    0.    0.    0.    0.  ]]\n"
       ]
      }
     ],
     "prompt_number": 21
    },
    {
     "cell_type": "code",
     "collapsed": false,
     "input": [
      "C = np.linalg.matrix_power(B, 8)\n",
      "for k in range(5):\n",
      "    C = C.dot(B)\n",
      "    print 'B^{0} ='.format(9 + k)\n",
      "    print C, '\\n'"
     ],
     "language": "python",
     "metadata": {},
     "outputs": [
      {
       "output_type": "stream",
       "stream": "stdout",
       "text": [
        "B^9 =\n",
        "[[ 0.    0.    0.12  0.88  0.    0.    0.    0.    0.    0.    0.  ]\n",
        " [ 0.    0.    0.12  0.88  0.    0.    0.    0.    0.    0.    0.  ]\n",
        " [ 0.    0.    0.    0.    0.5   0.44  0.06  0.    0.    0.    0.  ]\n",
        " [ 0.    0.    0.    0.    0.5   0.44  0.06  0.    0.    0.    0.  ]\n",
        " [ 0.    0.    0.    0.    0.    0.    0.    0.02  0.72  0.24  0.02]\n",
        " [ 0.    0.    0.    0.    0.    0.    0.    0.02  0.72  0.24  0.02]\n",
        " [ 0.    0.    0.    0.    0.    0.    0.    0.02  0.72  0.24  0.02]\n",
        " [ 0.24  0.76  0.    0.    0.    0.    0.    0.    0.    0.    0.  ]\n",
        " [ 0.24  0.76  0.    0.    0.    0.    0.    0.    0.    0.    0.  ]\n",
        " [ 0.24  0.76  0.    0.    0.    0.    0.    0.    0.    0.    0.  ]\n",
        " [ 0.24  0.76  0.    0.    0.    0.    0.    0.    0.    0.    0.  ]] \n",
        "\n",
        "B^10 =\n",
        "[[ 0.    0.    0.    0.    0.5   0.44  0.06  0.    0.    0.    0.  ]\n",
        " [ 0.    0.    0.    0.    0.5   0.44  0.06  0.    0.    0.    0.  ]\n",
        " [ 0.    0.    0.    0.    0.    0.    0.    0.02  0.72  0.24  0.02]\n",
        " [ 0.    0.    0.    0.    0.    0.    0.    0.02  0.72  0.24  0.02]\n",
        " [ 0.24  0.76  0.    0.    0.    0.    0.    0.    0.    0.    0.  ]\n",
        " [ 0.24  0.76  0.    0.    0.    0.    0.    0.    0.    0.    0.  ]\n",
        " [ 0.24  0.76  0.    0.    0.    0.    0.    0.    0.    0.    0.  ]\n",
        " [ 0.    0.    0.12  0.88  0.    0.    0.    0.    0.    0.    0.  ]\n",
        " [ 0.    0.    0.12  0.88  0.    0.    0.    0.    0.    0.    0.  ]\n",
        " [ 0.    0.    0.12  0.88  0.    0.    0.    0.    0.    0.    0.  ]\n",
        " [ 0.    0.    0.12  0.88  0.    0.    0.    0.    0.    0.    0.  ]] \n",
        "\n",
        "B^11 =\n",
        "[[ 0.    0.    0.    0.    0.    0.    0.    0.02  0.72  0.24  0.02]\n",
        " [ 0.    0.    0.    0.    0.    0.    0.    0.02  0.72  0.24  0.02]\n",
        " [ 0.24  0.76  0.    0.    0.    0.    0.    0.    0.    0.    0.  ]\n",
        " [ 0.24  0.76  0.    0.    0.    0.    0.    0.    0.    0.    0.  ]\n",
        " [ 0.    0.    0.12  0.88  0.    0.    0.    0.    0.    0.    0.  ]\n",
        " [ 0.    0.    0.12  0.88  0.    0.    0.    0.    0.    0.    0.  ]\n",
        " [ 0.    0.    0.12  0.88  0.    0.    0.    0.    0.    0.    0.  ]\n",
        " [ 0.    0.    0.    0.    0.5   0.44  0.06  0.    0.    0.    0.  ]\n",
        " [ 0.    0.    0.    0.    0.5   0.44  0.06  0.    0.    0.    0.  ]\n",
        " [ 0.    0.    0.    0.    0.5   0.44  0.06  0.    0.    0.    0.  ]\n",
        " [ 0.    0.    0.    0.    0.5   0.44  0.06  0.    0.    0.    0.  ]] \n",
        "\n",
        "B^12 =\n",
        "[[ 0.24  0.76  0.    0.    0.    0.    0.    0.    0.    0.    0.  ]\n",
        " [ 0.24  0.76  0.    0.    0.    0.    0.    0.    0.    0.    0.  ]\n",
        " [ 0.    0.    0.12  0.88  0.    0.    0.    0.    0.    0.    0.  ]\n",
        " [ 0.    0.    0.12  0.88  0.    0.    0.    0.    0.    0.    0.  ]\n",
        " [ 0.    0.    0.    0.    0.5   0.44  0.06  0.    0.    0.    0.  ]\n",
        " [ 0.    0.    0.    0.    0.5   0.44  0.06  0.    0.    0.    0.  ]\n",
        " [ 0.    0.    0.    0.    0.5   0.44  0.06  0.    0.    0.    0.  ]\n",
        " [ 0.    0.    0.    0.    0.    0.    0.    0.02  0.72  0.24  0.02]\n",
        " [ 0.    0.    0.    0.    0.    0.    0.    0.02  0.72  0.24  0.02]\n",
        " [ 0.    0.    0.    0.    0.    0.    0.    0.02  0.72  0.24  0.02]\n",
        " [ 0.    0.    0.    0.    0.    0.    0.    0.02  0.72  0.24  0.02]] \n",
        "\n",
        "B^13 =\n",
        "[[ 0.    0.    0.12  0.88  0.    0.    0.    0.    0.    0.    0.  ]\n",
        " [ 0.    0.    0.12  0.88  0.    0.    0.    0.    0.    0.    0.  ]\n",
        " [ 0.    0.    0.    0.    0.5   0.44  0.06  0.    0.    0.    0.  ]\n",
        " [ 0.    0.    0.    0.    0.5   0.44  0.06  0.    0.    0.    0.  ]\n",
        " [ 0.    0.    0.    0.    0.    0.    0.    0.02  0.72  0.24  0.02]\n",
        " [ 0.    0.    0.    0.    0.    0.    0.    0.02  0.72  0.24  0.02]\n",
        " [ 0.    0.    0.    0.    0.    0.    0.    0.02  0.72  0.24  0.02]\n",
        " [ 0.24  0.76  0.    0.    0.    0.    0.    0.    0.    0.    0.  ]\n",
        " [ 0.24  0.76  0.    0.    0.    0.    0.    0.    0.    0.    0.  ]\n",
        " [ 0.24  0.76  0.    0.    0.    0.    0.    0.    0.    0.    0.  ]\n",
        " [ 0.24  0.76  0.    0.    0.    0.    0.    0.    0.    0.    0.  ]] \n",
        "\n"
       ]
      }
     ],
     "prompt_number": 22
    },
    {
     "cell_type": "code",
     "collapsed": false,
     "input": [
      "g3 = DiGraph(B)"
     ],
     "language": "python",
     "metadata": {},
     "outputs": [],
     "prompt_number": 23
    },
    {
     "cell_type": "code",
     "collapsed": false,
     "input": [
      "g3.csgraph"
     ],
     "language": "python",
     "metadata": {},
     "outputs": [
      {
       "metadata": {},
       "output_type": "pyout",
       "prompt_number": 24,
       "text": [
        "<11x11 sparse matrix of type '<type 'numpy.bool_'>'\n",
        "\twith 17 stored elements in Compressed Sparse Row format>"
       ]
      }
     ],
     "prompt_number": 24
    },
    {
     "cell_type": "code",
     "collapsed": false,
     "input": [
      "print g3.csgraph.todense()"
     ],
     "language": "python",
     "metadata": {},
     "outputs": [
      {
       "output_type": "stream",
       "stream": "stdout",
       "text": [
        "[[False False  True  True False False False False False False False]\n",
        " [False False False  True False False False False False False False]\n",
        " [False False False False  True False  True False False False False]\n",
        " [False False False False  True  True False False False False False]\n",
        " [False False False False False False False False  True False False]\n",
        " [False False False False False False False False  True  True False]\n",
        " [False False False False False False False  True False  True  True]\n",
        " [False  True False False False False False False False False False]\n",
        " [False  True False False False False False False False False False]\n",
        " [ True False False False False False False False False False False]\n",
        " [False  True False False False False False False False False False]]\n"
       ]
      }
     ],
     "prompt_number": 25
    },
    {
     "cell_type": "code",
     "collapsed": false,
     "input": [
      "g4 = DiGraph(B, weighted=True)"
     ],
     "language": "python",
     "metadata": {},
     "outputs": [],
     "prompt_number": 26
    },
    {
     "cell_type": "code",
     "collapsed": false,
     "input": [
      "g4.csgraph"
     ],
     "language": "python",
     "metadata": {},
     "outputs": [
      {
       "metadata": {},
       "output_type": "pyout",
       "prompt_number": 27,
       "text": [
        "<11x11 sparse matrix of type '<type 'numpy.float64'>'\n",
        "\twith 17 stored elements in Compressed Sparse Row format>"
       ]
      }
     ],
     "prompt_number": 27
    },
    {
     "cell_type": "code",
     "collapsed": false,
     "input": [
      "print g4.csgraph.todense()"
     ],
     "language": "python",
     "metadata": {},
     "outputs": [
      {
       "output_type": "stream",
       "stream": "stdout",
       "text": [
        "[[ 0.    0.    0.5   0.5   0.    0.    0.    0.    0.    0.    0.  ]\n",
        " [ 0.    0.    0.    1.    0.    0.    0.    0.    0.    0.    0.  ]\n",
        " [ 0.    0.    0.    0.    0.5   0.    0.5   0.    0.    0.    0.  ]\n",
        " [ 0.    0.    0.    0.    0.5   0.5   0.    0.    0.    0.    0.  ]\n",
        " [ 0.    0.    0.    0.    0.    0.    0.    0.    1.    0.    0.  ]\n",
        " [ 0.    0.    0.    0.    0.    0.    0.    0.    0.5   0.5   0.  ]\n",
        " [ 0.    0.    0.    0.    0.    0.    0.    0.33  0.    0.33  0.33]\n",
        " [ 0.    1.    0.    0.    0.    0.    0.    0.    0.    0.    0.  ]\n",
        " [ 0.    1.    0.    0.    0.    0.    0.    0.    0.    0.    0.  ]\n",
        " [ 1.    0.    0.    0.    0.    0.    0.    0.    0.    0.    0.  ]\n",
        " [ 0.    1.    0.    0.    0.    0.    0.    0.    0.    0.    0.  ]]\n"
       ]
      }
     ],
     "prompt_number": 28
    },
    {
     "cell_type": "code",
     "collapsed": false,
     "input": [],
     "language": "python",
     "metadata": {},
     "outputs": [],
     "prompt_number": 28
    }
   ],
   "metadata": {}
  }
 ]
}