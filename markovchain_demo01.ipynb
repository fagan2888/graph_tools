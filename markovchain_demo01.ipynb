{
 "metadata": {
  "name": "",
  "signature": "sha256:7ac5cc0fc68bf5e876d743fd6d309a33dba90d13c3a4f25eeeb83c25fbd020f5"
 },
 "nbformat": 3,
 "nbformat_minor": 0,
 "worksheets": [
  {
   "cells": [
    {
     "cell_type": "heading",
     "level": 1,
     "metadata": {},
     "source": [
      "MarkovChain: Illustration"
     ]
    },
    {
     "cell_type": "code",
     "collapsed": false,
     "input": [
      "from __future__ import division\n",
      "import numpy as np\n",
      "from mc_tools import MarkovChain"
     ],
     "language": "python",
     "metadata": {},
     "outputs": [],
     "prompt_number": 1
    },
    {
     "cell_type": "heading",
     "level": 2,
     "metadata": {},
     "source": [
      "Example: Non irreducible case"
     ]
    },
    {
     "cell_type": "code",
     "collapsed": false,
     "input": [
      "# Taken from www.math.wustl.edu/~feres/Math450Lect04.pdf\n",
      "P = np.zeros((10, 10))\n",
      "P[[0, 0], [0, 2]] = 1./2\n",
      "P[1, 1], P[1, 6] = 1./3, 2./3\n",
      "P[2, 0] = 1\n",
      "P[3, 4] = 1\n",
      "P[[4, 4, 4], [3, 4, 8]] = 1./3\n",
      "P[5, 5] = 1\n",
      "P[6, 6], P[6, 8] = 1./4, 3./4\n",
      "P[[7, 7, 7, 7], [2, 3, 7, 9]] = 1./4\n",
      "P[8, 1] = 1\n",
      "P[[9, 9, 9], [1, 4, 9]] = 1./3"
     ],
     "language": "python",
     "metadata": {},
     "outputs": [],
     "prompt_number": 2
    },
    {
     "cell_type": "code",
     "collapsed": false,
     "input": [
      "np.set_printoptions(precision=3)"
     ],
     "language": "python",
     "metadata": {},
     "outputs": [],
     "prompt_number": 3
    },
    {
     "cell_type": "code",
     "collapsed": false,
     "input": [
      "print P"
     ],
     "language": "python",
     "metadata": {},
     "outputs": [
      {
       "output_type": "stream",
       "stream": "stdout",
       "text": [
        "[[ 0.5    0.     0.5    0.     0.     0.     0.     0.     0.     0.   ]\n",
        " [ 0.     0.333  0.     0.     0.     0.     0.667  0.     0.     0.   ]\n",
        " [ 1.     0.     0.     0.     0.     0.     0.     0.     0.     0.   ]\n",
        " [ 0.     0.     0.     0.     1.     0.     0.     0.     0.     0.   ]\n",
        " [ 0.     0.     0.     0.333  0.333  0.     0.     0.     0.333  0.   ]\n",
        " [ 0.     0.     0.     0.     0.     1.     0.     0.     0.     0.   ]\n",
        " [ 0.     0.     0.     0.     0.     0.     0.25   0.     0.75   0.   ]\n",
        " [ 0.     0.     0.25   0.25   0.     0.     0.     0.25   0.     0.25 ]\n",
        " [ 0.     1.     0.     0.     0.     0.     0.     0.     0.     0.   ]\n",
        " [ 0.     0.333  0.     0.     0.333  0.     0.     0.     0.     0.333]]\n"
       ]
      }
     ],
     "prompt_number": 4
    },
    {
     "cell_type": "code",
     "collapsed": false,
     "input": [
      "mc = MarkovChain(P)"
     ],
     "language": "python",
     "metadata": {},
     "outputs": [],
     "prompt_number": 5
    },
    {
     "cell_type": "code",
     "collapsed": false,
     "input": [
      "print mc"
     ],
     "language": "python",
     "metadata": {},
     "outputs": [
      {
       "output_type": "stream",
       "stream": "stdout",
       "text": [
        "<bound method MarkovChain.__repr__ of Markov chain with transition matrix \n",
        "P = \n",
        "[[ 0.5    0.     0.5    0.     0.     0.     0.     0.     0.     0.   ]\n",
        " [ 0.     0.333  0.     0.     0.     0.     0.667  0.     0.     0.   ]\n",
        " [ 1.     0.     0.     0.     0.     0.     0.     0.     0.     0.   ]\n",
        " [ 0.     0.     0.     0.     1.     0.     0.     0.     0.     0.   ]\n",
        " [ 0.     0.     0.     0.333  0.333  0.     0.     0.     0.333  0.   ]\n",
        " [ 0.     0.     0.     0.     0.     1.     0.     0.     0.     0.   ]\n",
        " [ 0.     0.     0.     0.     0.     0.     0.25   0.     0.75   0.   ]\n",
        " [ 0.     0.     0.25   0.25   0.     0.     0.     0.25   0.     0.25 ]\n",
        " [ 0.     1.     0.     0.     0.     0.     0.     0.     0.     0.   ]\n",
        " [ 0.     0.333  0.     0.     0.333  0.     0.     0.     0.     0.333]]>\n"
       ]
      }
     ],
     "prompt_number": 6
    },
    {
     "cell_type": "heading",
     "level": 2,
     "metadata": {},
     "source": [
      "Simulation"
     ]
    },
    {
     "cell_type": "markdown",
     "metadata": {},
     "source": [
      "Let us perform a simulation with initial state `0`:"
     ]
    },
    {
     "cell_type": "code",
     "collapsed": false,
     "input": [
      "X0 = mc.simulate(init=0)"
     ],
     "language": "python",
     "metadata": {},
     "outputs": [],
     "prompt_number": 7
    },
    {
     "cell_type": "code",
     "collapsed": false,
     "input": [
      "bins = list(range(11))\n",
      "\n",
      "hist, bin_edges = np.histogram(X0, bins=bins)\n",
      "x0 = hist/len(X0)\n",
      "print x0"
     ],
     "language": "python",
     "metadata": {},
     "outputs": [
      {
       "output_type": "stream",
       "stream": "stdout",
       "text": [
        "[ 0.665  0.     0.335  0.     0.     0.     0.     0.     0.     0.   ]\n"
       ]
      }
     ],
     "prompt_number": 8
    },
    {
     "cell_type": "markdown",
     "metadata": {},
     "source": [
      "Let us write a function:"
     ]
    },
    {
     "cell_type": "code",
     "collapsed": false,
     "input": [
      "def empirical_dist(init):\n",
      "    X = mc.simulate(init=init)\n",
      "    hist, bin_edges = np.histogram(X, bins=bins)\n",
      "    x= hist/len(X)\n",
      "    return x"
     ],
     "language": "python",
     "metadata": {},
     "outputs": [],
     "prompt_number": 9
    },
    {
     "cell_type": "markdown",
     "metadata": {},
     "source": [
      "The set of states `[0, 2]` seems to be closed:"
     ]
    },
    {
     "cell_type": "code",
     "collapsed": false,
     "input": [
      "print empirical_dist(2)"
     ],
     "language": "python",
     "metadata": {},
     "outputs": [
      {
       "output_type": "stream",
       "stream": "stdout",
       "text": [
        "[ 0.655  0.     0.345  0.     0.     0.     0.     0.     0.     0.   ]\n"
       ]
      }
     ],
     "prompt_number": 10
    },
    {
     "cell_type": "markdown",
     "metadata": {},
     "source": [
      "The set of states `[1, 6, 8]` seems to be closed:"
     ]
    },
    {
     "cell_type": "code",
     "collapsed": false,
     "input": [
      "print empirical_dist(1)"
     ],
     "language": "python",
     "metadata": {},
     "outputs": [
      {
       "output_type": "stream",
       "stream": "stdout",
       "text": [
        "[ 0.     0.389  0.     0.     0.     0.     0.348  0.     0.263  0.   ]\n"
       ]
      }
     ],
     "prompt_number": 11
    },
    {
     "cell_type": "code",
     "collapsed": false,
     "input": [
      "print empirical_dist(6)"
     ],
     "language": "python",
     "metadata": {},
     "outputs": [
      {
       "output_type": "stream",
       "stream": "stdout",
       "text": [
        "[ 0.     0.372  0.     0.     0.     0.     0.367  0.     0.261  0.   ]\n"
       ]
      }
     ],
     "prompt_number": 12
    },
    {
     "cell_type": "code",
     "collapsed": false,
     "input": [
      "print empirical_dist(8)"
     ],
     "language": "python",
     "metadata": {},
     "outputs": [
      {
       "output_type": "stream",
       "stream": "stdout",
       "text": [
        "[ 0.     0.39   0.     0.     0.     0.     0.349  0.     0.261  0.   ]\n"
       ]
      }
     ],
     "prompt_number": 13
    },
    {
     "cell_type": "markdown",
     "metadata": {},
     "source": [
      "`3` and `4` seem to communicate with each other and eventually get absorbed into `[1, 6, 8]`:"
     ]
    },
    {
     "cell_type": "code",
     "collapsed": false,
     "input": [
      "print empirical_dist(3)"
     ],
     "language": "python",
     "metadata": {},
     "outputs": [
      {
       "output_type": "stream",
       "stream": "stdout",
       "text": [
        "[ 0.     0.394  0.     0.001  0.001  0.     0.343  0.     0.261  0.   ]\n"
       ]
      }
     ],
     "prompt_number": 14
    },
    {
     "cell_type": "code",
     "collapsed": false,
     "input": [
      "print empirical_dist(4)"
     ],
     "language": "python",
     "metadata": {},
     "outputs": [
      {
       "output_type": "stream",
       "stream": "stdout",
       "text": [
        "[ 0.     0.4    0.     0.001  0.002  0.     0.343  0.     0.254  0.   ]\n"
       ]
      }
     ],
     "prompt_number": 15
    },
    {
     "cell_type": "markdown",
     "metadata": {},
     "source": [
      "`5` is an absorbind state:"
     ]
    },
    {
     "cell_type": "code",
     "collapsed": false,
     "input": [
      "print empirical_dist(5)"
     ],
     "language": "python",
     "metadata": {},
     "outputs": [
      {
       "output_type": "stream",
       "stream": "stdout",
       "text": [
        "[ 0.  0.  0.  0.  0.  1.  0.  0.  0.  0.]\n"
       ]
      }
     ],
     "prompt_number": 16
    },
    {
     "cell_type": "markdown",
     "metadata": {},
     "source": [
      "From `9`, the path seems to be absorbed into `[1, 6, 8]`:"
     ]
    },
    {
     "cell_type": "code",
     "collapsed": false,
     "input": [
      "print empirical_dist(9)"
     ],
     "language": "python",
     "metadata": {},
     "outputs": [
      {
       "output_type": "stream",
       "stream": "stdout",
       "text": [
        "[ 0.     0.385  0.     0.     0.002  0.     0.355  0.     0.255  0.003]\n"
       ]
      }
     ],
     "prompt_number": 17
    },
    {
     "cell_type": "markdown",
     "metadata": {},
     "source": [
      "From `7`, the path gets absorbed into either `[0, 2]` or `[1, 6, 8]`, depending on the realization:"
     ]
    },
    {
     "cell_type": "code",
     "collapsed": false,
     "input": [
      "print empirical_dist(7)"
     ],
     "language": "python",
     "metadata": {},
     "outputs": [
      {
       "output_type": "stream",
       "stream": "stdout",
       "text": [
        "[ 0.     0.378  0.     0.007  0.008  0.     0.354  0.001  0.252  0.   ]\n"
       ]
      }
     ],
     "prompt_number": 18
    },
    {
     "cell_type": "code",
     "collapsed": false,
     "input": [
      "print empirical_dist(7)"
     ],
     "language": "python",
     "metadata": {},
     "outputs": [
      {
       "output_type": "stream",
       "stream": "stdout",
       "text": [
        "[ 0.     0.377  0.     0.001  0.001  0.     0.355  0.002  0.264  0.   ]\n"
       ]
      }
     ],
     "prompt_number": 19
    },
    {
     "cell_type": "code",
     "collapsed": false,
     "input": [
      "N=50\n",
      "print np.mean([empirical_dist(7) for i in range(N)], axis=0)"
     ],
     "language": "python",
     "metadata": {},
     "outputs": [
      {
       "output_type": "stream",
       "stream": "stdout",
       "text": [
        "[ 0.173  0.287  0.086  0.001  0.001  0.     0.256  0.001  0.193  0.   ]\n"
       ]
      }
     ],
     "prompt_number": 20
    },
    {
     "cell_type": "heading",
     "level": 2,
     "metadata": {},
     "source": [
      "Classification of states"
     ]
    },
    {
     "cell_type": "markdown",
     "metadata": {},
     "source": [
      "As expected, the Markov chain `mc` is reducible:"
     ]
    },
    {
     "cell_type": "code",
     "collapsed": false,
     "input": [
      "mc.is_irreducible"
     ],
     "language": "python",
     "metadata": {},
     "outputs": [
      {
       "metadata": {},
       "output_type": "pyout",
       "prompt_number": 21,
       "text": [
        "False"
       ]
      }
     ],
     "prompt_number": 21
    },
    {
     "cell_type": "markdown",
     "metadata": {},
     "source": [
      "Communication classes of `mc`:"
     ]
    },
    {
     "cell_type": "code",
     "collapsed": false,
     "input": [
      "mc.num_communication_classes"
     ],
     "language": "python",
     "metadata": {},
     "outputs": [
      {
       "metadata": {},
       "output_type": "pyout",
       "prompt_number": 22,
       "text": [
        "6"
       ]
      }
     ],
     "prompt_number": 22
    },
    {
     "cell_type": "code",
     "collapsed": false,
     "input": [
      "mc.communication_classes"
     ],
     "language": "python",
     "metadata": {},
     "outputs": [
      {
       "metadata": {},
       "output_type": "pyout",
       "prompt_number": 23,
       "text": [
        "[array([0, 2]),\n",
        " array([1, 6, 8]),\n",
        " array([3, 4]),\n",
        " array([5]),\n",
        " array([9]),\n",
        " array([7])]"
       ]
      }
     ],
     "prompt_number": 23
    },
    {
     "cell_type": "markdown",
     "metadata": {},
     "source": [
      "Recurrent classes of `mc`:"
     ]
    },
    {
     "cell_type": "code",
     "collapsed": false,
     "input": [
      "mc.num_recurrent_classes"
     ],
     "language": "python",
     "metadata": {},
     "outputs": [
      {
       "metadata": {},
       "output_type": "pyout",
       "prompt_number": 24,
       "text": [
        "3"
       ]
      }
     ],
     "prompt_number": 24
    },
    {
     "cell_type": "code",
     "collapsed": false,
     "input": [
      "mc.recurrent_classes"
     ],
     "language": "python",
     "metadata": {},
     "outputs": [
      {
       "metadata": {},
       "output_type": "pyout",
       "prompt_number": 25,
       "text": [
        "[array([0, 2]), array([1, 6, 8]), array([5])]"
       ]
      }
     ],
     "prompt_number": 25
    },
    {
     "cell_type": "markdown",
     "metadata": {},
     "source": [
      "Recurrent states of `mc`:"
     ]
    },
    {
     "cell_type": "code",
     "collapsed": false,
     "input": [
      "recurrent_states = np.concatenate(mc.recurrent_classes)\n",
      "print recurrent_states"
     ],
     "language": "python",
     "metadata": {},
     "outputs": [
      {
       "output_type": "stream",
       "stream": "stdout",
       "text": [
        "[0 2 1 6 8 5]\n"
       ]
      }
     ],
     "prompt_number": 26
    },
    {
     "cell_type": "markdown",
     "metadata": {},
     "source": [
      "Transient states of `mc`:"
     ]
    },
    {
     "cell_type": "code",
     "collapsed": false,
     "input": [
      "transient_states = np.setdiff1d(np.arange(mc.n), recurrent_states)\n",
      "print transient_states"
     ],
     "language": "python",
     "metadata": {},
     "outputs": [
      {
       "output_type": "stream",
       "stream": "stdout",
       "text": [
        "[3 4 7 9]\n"
       ]
      }
     ],
     "prompt_number": 27
    },
    {
     "cell_type": "markdown",
     "metadata": {},
     "source": [
      "Canonical form of `P`:"
     ]
    },
    {
     "cell_type": "code",
     "collapsed": false,
     "input": [
      "permutation = np.concatenate((recurrent_states, transient_states))\n",
      "print permutation"
     ],
     "language": "python",
     "metadata": {},
     "outputs": [
      {
       "output_type": "stream",
       "stream": "stdout",
       "text": [
        "[0 2 1 6 8 5 3 4 7 9]\n"
       ]
      }
     ],
     "prompt_number": 28
    },
    {
     "cell_type": "code",
     "collapsed": false,
     "input": [
      "print P[permutation, :][:, permutation]"
     ],
     "language": "python",
     "metadata": {},
     "outputs": [
      {
       "output_type": "stream",
       "stream": "stdout",
       "text": [
        "[[ 0.5    0.5    0.     0.     0.     0.     0.     0.     0.     0.   ]\n",
        " [ 1.     0.     0.     0.     0.     0.     0.     0.     0.     0.   ]\n",
        " [ 0.     0.     0.333  0.667  0.     0.     0.     0.     0.     0.   ]\n",
        " [ 0.     0.     0.     0.25   0.75   0.     0.     0.     0.     0.   ]\n",
        " [ 0.     0.     1.     0.     0.     0.     0.     0.     0.     0.   ]\n",
        " [ 0.     0.     0.     0.     0.     1.     0.     0.     0.     0.   ]\n",
        " [ 0.     0.     0.     0.     0.     0.     0.     1.     0.     0.   ]\n",
        " [ 0.     0.     0.     0.     0.333  0.     0.333  0.333  0.     0.   ]\n",
        " [ 0.     0.25   0.     0.     0.     0.     0.25   0.     0.25   0.25 ]\n",
        " [ 0.     0.     0.333  0.     0.     0.     0.     0.333  0.     0.333]]\n"
       ]
      }
     ],
     "prompt_number": 29
    },
    {
     "cell_type": "markdown",
     "metadata": {},
     "source": [
      "Decompose `P` into irreducible submatrices:"
     ]
    },
    {
     "cell_type": "code",
     "collapsed": false,
     "input": [
      "for i, recurrent_class in enumerate(mc.recurrent_classes):\n",
      "    print 'P{0} ='.format(i)\n",
      "    print P[recurrent_class, :][:, recurrent_class]"
     ],
     "language": "python",
     "metadata": {},
     "outputs": [
      {
       "output_type": "stream",
       "stream": "stdout",
       "text": [
        "P0 =\n",
        "[[ 0.5  0.5]\n",
        " [ 1.   0. ]]\n",
        "P1 =\n",
        "[[ 0.333  0.667  0.   ]\n",
        " [ 0.     0.25   0.75 ]\n",
        " [ 1.     0.     0.   ]]\n",
        "P2 =\n",
        "[[ 1.]]\n"
       ]
      }
     ],
     "prompt_number": 30
    },
    {
     "cell_type": "heading",
     "level": 2,
     "metadata": {},
     "source": [
      "Stationary distributions"
     ]
    },
    {
     "cell_type": "markdown",
     "metadata": {},
     "source": [
      "The Markov chain `mc` above has three stationary distributions,\n",
      "one for each of the three recurrent classes:"
     ]
    },
    {
     "cell_type": "code",
     "collapsed": false,
     "input": [
      "vecs = mc.stationary_distributions\n",
      "print vecs"
     ],
     "language": "python",
     "metadata": {},
     "outputs": [
      {
       "output_type": "stream",
       "stream": "stdout",
       "text": [
        "[[ 0.667  0.     0.333  0.     0.     0.     0.     0.     0.     0.   ]\n",
        " [ 0.     0.391  0.     0.     0.     0.     0.348  0.     0.261  0.   ]\n",
        " [ 0.     0.     0.     0.     0.     1.     0.     0.     0.     0.   ]]\n"
       ]
      }
     ],
     "prompt_number": 31
    },
    {
     "cell_type": "code",
     "collapsed": false,
     "input": [
      "print np.dot(vecs, P)"
     ],
     "language": "python",
     "metadata": {},
     "outputs": [
      {
       "output_type": "stream",
       "stream": "stdout",
       "text": [
        "[[ 0.667  0.     0.333  0.     0.     0.     0.     0.     0.     0.   ]\n",
        " [ 0.     0.391  0.     0.     0.     0.     0.348  0.     0.261  0.   ]\n",
        " [ 0.     0.     0.     0.     0.     1.     0.     0.     0.     0.   ]]\n"
       ]
      }
     ],
     "prompt_number": 32
    },
    {
     "cell_type": "heading",
     "level": 2,
     "metadata": {},
     "source": [
      "Example: Irreducible and periodic case"
     ]
    },
    {
     "cell_type": "code",
     "collapsed": false,
     "input": [
      "Q = np.zeros((11, 11))\n",
      "Q[0, [1, 5]] = 1./2\n",
      "Q[1, [2, 10]] = 1./2\n",
      "Q[2, 7] = 1.\n",
      "Q[3, 4] = 1.\n",
      "Q[4, 5] = 1.\n",
      "Q[5, [2, 6]] = 1./2\n",
      "Q[6, [7, 8]] = 1./2\n",
      "Q[7, 4] = 1.\n",
      "Q[8, 0] = 1.\n",
      "Q[9, 4] = 1.\n",
      "Q[10, [3, 8, 9]] = 1./3"
     ],
     "language": "python",
     "metadata": {},
     "outputs": [],
     "prompt_number": 33
    },
    {
     "cell_type": "code",
     "collapsed": false,
     "input": [
      "print Q"
     ],
     "language": "python",
     "metadata": {},
     "outputs": [
      {
       "output_type": "stream",
       "stream": "stdout",
       "text": [
        "[[ 0.     0.5    0.     0.     0.     0.5    0.     0.     0.     0.     0.   ]\n",
        " [ 0.     0.     0.5    0.     0.     0.     0.     0.     0.     0.     0.5  ]\n",
        " [ 0.     0.     0.     0.     0.     0.     0.     1.     0.     0.     0.   ]\n",
        " [ 0.     0.     0.     0.     1.     0.     0.     0.     0.     0.     0.   ]\n",
        " [ 0.     0.     0.     0.     0.     1.     0.     0.     0.     0.     0.   ]\n",
        " [ 0.     0.     0.5    0.     0.     0.     0.5    0.     0.     0.     0.   ]\n",
        " [ 0.     0.     0.     0.     0.     0.     0.     0.5    0.5    0.     0.   ]\n",
        " [ 0.     0.     0.     0.     1.     0.     0.     0.     0.     0.     0.   ]\n",
        " [ 1.     0.     0.     0.     0.     0.     0.     0.     0.     0.     0.   ]\n",
        " [ 0.     0.     0.     0.     1.     0.     0.     0.     0.     0.     0.   ]\n",
        " [ 0.     0.     0.     0.333  0.     0.     0.     0.     0.333  0.333  0.   ]]\n"
       ]
      }
     ],
     "prompt_number": 34
    },
    {
     "cell_type": "code",
     "collapsed": false,
     "input": [
      "mc2 = MarkovChain(Q)"
     ],
     "language": "python",
     "metadata": {},
     "outputs": [],
     "prompt_number": 35
    },
    {
     "cell_type": "markdown",
     "metadata": {},
     "source": [
      "This Markov chain `mc2` is irreducible:"
     ]
    },
    {
     "cell_type": "code",
     "collapsed": false,
     "input": [
      "mc2.is_irreducible"
     ],
     "language": "python",
     "metadata": {},
     "outputs": [
      {
       "metadata": {},
       "output_type": "pyout",
       "prompt_number": 36,
       "text": [
        "True"
       ]
      }
     ],
     "prompt_number": 36
    },
    {
     "cell_type": "markdown",
     "metadata": {},
     "source": [
      "Whether it is aperiodic:"
     ]
    },
    {
     "cell_type": "code",
     "collapsed": false,
     "input": [
      "mc2.is_aperiodic"
     ],
     "language": "python",
     "metadata": {},
     "outputs": [
      {
       "metadata": {},
       "output_type": "pyout",
       "prompt_number": 37,
       "text": [
        "False"
       ]
      }
     ],
     "prompt_number": 37
    },
    {
     "cell_type": "markdown",
     "metadata": {},
     "source": [
      "The priod `mc2`:"
     ]
    },
    {
     "cell_type": "code",
     "collapsed": false,
     "input": [
      "mc2.period"
     ],
     "language": "python",
     "metadata": {},
     "outputs": [
      {
       "metadata": {},
       "output_type": "pyout",
       "prompt_number": 38,
       "text": [
        "4"
       ]
      }
     ],
     "prompt_number": 38
    },
    {
     "cell_type": "markdown",
     "metadata": {},
     "source": [
      "Cyclic classes of `mc2`:"
     ]
    },
    {
     "cell_type": "code",
     "collapsed": false,
     "input": [
      "cyclic_classes = mc2.cyclic_classes\n",
      "print cyclic_classes"
     ],
     "language": "python",
     "metadata": {},
     "outputs": [
      {
       "output_type": "stream",
       "stream": "stdout",
       "text": [
        "[array([0, 4]), array([1, 5]), array([ 2,  6, 10]), array([3, 7, 8, 9])]\n"
       ]
      }
     ],
     "prompt_number": 39
    },
    {
     "cell_type": "markdown",
     "metadata": {},
     "source": [
      "Cyclic normal form of `Q`:"
     ]
    },
    {
     "cell_type": "code",
     "collapsed": false,
     "input": [
      "permutation = np.concatenate(cyclic_classes)\n",
      "print permutation"
     ],
     "language": "python",
     "metadata": {},
     "outputs": [
      {
       "output_type": "stream",
       "stream": "stdout",
       "text": [
        "[ 0  4  1  5  2  6 10  3  7  8  9]\n"
       ]
      }
     ],
     "prompt_number": 40
    },
    {
     "cell_type": "code",
     "collapsed": false,
     "input": [
      "np.set_printoptions(precision=2)"
     ],
     "language": "python",
     "metadata": {},
     "outputs": [],
     "prompt_number": 41
    },
    {
     "cell_type": "code",
     "collapsed": false,
     "input": [
      "print Q[permutation, :][:, permutation]"
     ],
     "language": "python",
     "metadata": {},
     "outputs": [
      {
       "output_type": "stream",
       "stream": "stdout",
       "text": [
        "[[ 0.    0.    0.5   0.5   0.    0.    0.    0.    0.    0.    0.  ]\n",
        " [ 0.    0.    0.    1.    0.    0.    0.    0.    0.    0.    0.  ]\n",
        " [ 0.    0.    0.    0.    0.5   0.    0.5   0.    0.    0.    0.  ]\n",
        " [ 0.    0.    0.    0.    0.5   0.5   0.    0.    0.    0.    0.  ]\n",
        " [ 0.    0.    0.    0.    0.    0.    0.    0.    1.    0.    0.  ]\n",
        " [ 0.    0.    0.    0.    0.    0.    0.    0.    0.5   0.5   0.  ]\n",
        " [ 0.    0.    0.    0.    0.    0.    0.    0.33  0.    0.33  0.33]\n",
        " [ 0.    1.    0.    0.    0.    0.    0.    0.    0.    0.    0.  ]\n",
        " [ 0.    1.    0.    0.    0.    0.    0.    0.    0.    0.    0.  ]\n",
        " [ 1.    0.    0.    0.    0.    0.    0.    0.    0.    0.    0.  ]\n",
        " [ 0.    1.    0.    0.    0.    0.    0.    0.    0.    0.    0.  ]]\n"
       ]
      }
     ],
     "prompt_number": 42
    },
    {
     "cell_type": "markdown",
     "metadata": {},
     "source": [
      "Powers of `Q`:"
     ]
    },
    {
     "cell_type": "code",
     "collapsed": false,
     "input": [
      "R = Q[permutation, :][:, permutation]\n",
      "R /= np.sum(R, axis=1, keepdims=True)"
     ],
     "language": "python",
     "metadata": {},
     "outputs": [],
     "prompt_number": 43
    },
    {
     "cell_type": "code",
     "collapsed": false,
     "input": [
      "print R"
     ],
     "language": "python",
     "metadata": {},
     "outputs": [
      {
       "output_type": "stream",
       "stream": "stdout",
       "text": [
        "[[ 0.    0.    0.5   0.5   0.    0.    0.    0.    0.    0.    0.  ]\n",
        " [ 0.    0.    0.    1.    0.    0.    0.    0.    0.    0.    0.  ]\n",
        " [ 0.    0.    0.    0.    0.5   0.    0.5   0.    0.    0.    0.  ]\n",
        " [ 0.    0.    0.    0.    0.5   0.5   0.    0.    0.    0.    0.  ]\n",
        " [ 0.    0.    0.    0.    0.    0.    0.    0.    1.    0.    0.  ]\n",
        " [ 0.    0.    0.    0.    0.    0.    0.    0.    0.5   0.5   0.  ]\n",
        " [ 0.    0.    0.    0.    0.    0.    0.    0.33  0.    0.33  0.33]\n",
        " [ 0.    1.    0.    0.    0.    0.    0.    0.    0.    0.    0.  ]\n",
        " [ 0.    1.    0.    0.    0.    0.    0.    0.    0.    0.    0.  ]\n",
        " [ 1.    0.    0.    0.    0.    0.    0.    0.    0.    0.    0.  ]\n",
        " [ 0.    1.    0.    0.    0.    0.    0.    0.    0.    0.    0.  ]]\n"
       ]
      }
     ],
     "prompt_number": 44
    },
    {
     "cell_type": "code",
     "collapsed": false,
     "input": [
      "print np.linalg.matrix_power(R, 5)"
     ],
     "language": "python",
     "metadata": {},
     "outputs": [
      {
       "output_type": "stream",
       "stream": "stdout",
       "text": [
        "[[ 0.    0.    0.1   0.9   0.    0.    0.    0.    0.    0.    0.  ]\n",
        " [ 0.    0.    0.12  0.88  0.    0.    0.    0.    0.    0.    0.  ]\n",
        " [ 0.    0.    0.    0.    0.5   0.46  0.04  0.    0.    0.    0.  ]\n",
        " [ 0.    0.    0.    0.    0.5   0.44  0.06  0.    0.    0.    0.  ]\n",
        " [ 0.    0.    0.    0.    0.    0.    0.    0.    0.75  0.25  0.  ]\n",
        " [ 0.    0.    0.    0.    0.    0.    0.    0.04  0.69  0.23  0.04]\n",
        " [ 0.    0.    0.    0.    0.    0.    0.    0.03  0.71  0.24  0.03]\n",
        " [ 0.25  0.75  0.    0.    0.    0.    0.    0.    0.    0.    0.  ]\n",
        " [ 0.25  0.75  0.    0.    0.    0.    0.    0.    0.    0.    0.  ]\n",
        " [ 0.21  0.79  0.    0.    0.    0.    0.    0.    0.    0.    0.  ]\n",
        " [ 0.25  0.75  0.    0.    0.    0.    0.    0.    0.    0.    0.  ]]\n"
       ]
      }
     ],
     "prompt_number": 45
    },
    {
     "cell_type": "code",
     "collapsed": false,
     "input": [
      "S = np.linalg.matrix_power(R, 8)\n",
      "for k in range(5):\n",
      "    S = S.dot(R)\n",
      "    print 'R^{0} ='.format(9 + k)\n",
      "    print S, '\\n'"
     ],
     "language": "python",
     "metadata": {},
     "outputs": [
      {
       "output_type": "stream",
       "stream": "stdout",
       "text": [
        "R^9 =\n",
        "[[ 0.    0.    0.12  0.88  0.    0.    0.    0.    0.    0.    0.  ]\n",
        " [ 0.    0.    0.12  0.88  0.    0.    0.    0.    0.    0.    0.  ]\n",
        " [ 0.    0.    0.    0.    0.5   0.44  0.06  0.    0.    0.    0.  ]\n",
        " [ 0.    0.    0.    0.    0.5   0.44  0.06  0.    0.    0.    0.  ]\n",
        " [ 0.    0.    0.    0.    0.    0.    0.    0.02  0.72  0.24  0.02]\n",
        " [ 0.    0.    0.    0.    0.    0.    0.    0.02  0.72  0.24  0.02]\n",
        " [ 0.    0.    0.    0.    0.    0.    0.    0.02  0.72  0.24  0.02]\n",
        " [ 0.24  0.76  0.    0.    0.    0.    0.    0.    0.    0.    0.  ]\n",
        " [ 0.24  0.76  0.    0.    0.    0.    0.    0.    0.    0.    0.  ]\n",
        " [ 0.24  0.76  0.    0.    0.    0.    0.    0.    0.    0.    0.  ]\n",
        " [ 0.24  0.76  0.    0.    0.    0.    0.    0.    0.    0.    0.  ]] \n",
        "\n",
        "R^10 =\n",
        "[[ 0.    0.    0.    0.    0.5   0.44  0.06  0.    0.    0.    0.  ]\n",
        " [ 0.    0.    0.    0.    0.5   0.44  0.06  0.    0.    0.    0.  ]\n",
        " [ 0.    0.    0.    0.    0.    0.    0.    0.02  0.72  0.24  0.02]\n",
        " [ 0.    0.    0.    0.    0.    0.    0.    0.02  0.72  0.24  0.02]\n",
        " [ 0.24  0.76  0.    0.    0.    0.    0.    0.    0.    0.    0.  ]\n",
        " [ 0.24  0.76  0.    0.    0.    0.    0.    0.    0.    0.    0.  ]\n",
        " [ 0.24  0.76  0.    0.    0.    0.    0.    0.    0.    0.    0.  ]\n",
        " [ 0.    0.    0.12  0.88  0.    0.    0.    0.    0.    0.    0.  ]\n",
        " [ 0.    0.    0.12  0.88  0.    0.    0.    0.    0.    0.    0.  ]\n",
        " [ 0.    0.    0.12  0.88  0.    0.    0.    0.    0.    0.    0.  ]\n",
        " [ 0.    0.    0.12  0.88  0.    0.    0.    0.    0.    0.    0.  ]] \n",
        "\n",
        "R^11 =\n",
        "[[ 0.    0.    0.    0.    0.    0.    0.    0.02  0.72  0.24  0.02]\n",
        " [ 0.    0.    0.    0.    0.    0.    0.    0.02  0.72  0.24  0.02]\n",
        " [ 0.24  0.76  0.    0.    0.    0.    0.    0.    0.    0.    0.  ]\n",
        " [ 0.24  0.76  0.    0.    0.    0.    0.    0.    0.    0.    0.  ]\n",
        " [ 0.    0.    0.12  0.88  0.    0.    0.    0.    0.    0.    0.  ]\n",
        " [ 0.    0.    0.12  0.88  0.    0.    0.    0.    0.    0.    0.  ]\n",
        " [ 0.    0.    0.12  0.88  0.    0.    0.    0.    0.    0.    0.  ]\n",
        " [ 0.    0.    0.    0.    0.5   0.44  0.06  0.    0.    0.    0.  ]\n",
        " [ 0.    0.    0.    0.    0.5   0.44  0.06  0.    0.    0.    0.  ]\n",
        " [ 0.    0.    0.    0.    0.5   0.44  0.06  0.    0.    0.    0.  ]\n",
        " [ 0.    0.    0.    0.    0.5   0.44  0.06  0.    0.    0.    0.  ]] \n",
        "\n",
        "R^12 =\n",
        "[[ 0.24  0.76  0.    0.    0.    0.    0.    0.    0.    0.    0.  ]\n",
        " [ 0.24  0.76  0.    0.    0.    0.    0.    0.    0.    0.    0.  ]\n",
        " [ 0.    0.    0.12  0.88  0.    0.    0.    0.    0.    0.    0.  ]\n",
        " [ 0.    0.    0.12  0.88  0.    0.    0.    0.    0.    0.    0.  ]\n",
        " [ 0.    0.    0.    0.    0.5   0.44  0.06  0.    0.    0.    0.  ]\n",
        " [ 0.    0.    0.    0.    0.5   0.44  0.06  0.    0.    0.    0.  ]\n",
        " [ 0.    0.    0.    0.    0.5   0.44  0.06  0.    0.    0.    0.  ]\n",
        " [ 0.    0.    0.    0.    0.    0.    0.    0.02  0.72  0.24  0.02]\n",
        " [ 0.    0.    0.    0.    0.    0.    0.    0.02  0.72  0.24  0.02]\n",
        " [ 0.    0.    0.    0.    0.    0.    0.    0.02  0.72  0.24  0.02]\n",
        " [ 0.    0.    0.    0.    0.    0.    0.    0.02  0.72  0.24  0.02]] \n",
        "\n",
        "R^13 =\n",
        "[[ 0.    0.    0.12  0.88  0.    0.    0.    0.    0.    0.    0.  ]\n",
        " [ 0.    0.    0.12  0.88  0.    0.    0.    0.    0.    0.    0.  ]\n",
        " [ 0.    0.    0.    0.    0.5   0.44  0.06  0.    0.    0.    0.  ]\n",
        " [ 0.    0.    0.    0.    0.5   0.44  0.06  0.    0.    0.    0.  ]\n",
        " [ 0.    0.    0.    0.    0.    0.    0.    0.02  0.72  0.24  0.02]\n",
        " [ 0.    0.    0.    0.    0.    0.    0.    0.02  0.72  0.24  0.02]\n",
        " [ 0.    0.    0.    0.    0.    0.    0.    0.02  0.72  0.24  0.02]\n",
        " [ 0.24  0.76  0.    0.    0.    0.    0.    0.    0.    0.    0.  ]\n",
        " [ 0.24  0.76  0.    0.    0.    0.    0.    0.    0.    0.    0.  ]\n",
        " [ 0.24  0.76  0.    0.    0.    0.    0.    0.    0.    0.    0.  ]\n",
        " [ 0.24  0.76  0.    0.    0.    0.    0.    0.    0.    0.    0.  ]] \n",
        "\n"
       ]
      }
     ],
     "prompt_number": 46
    },
    {
     "cell_type": "heading",
     "level": 2,
     "metadata": {},
     "source": [
      "Issue: Periodicity for reducible Markov chains"
     ]
    },
    {
     "cell_type": "markdown",
     "metadata": {},
     "source": [
      "So far, periodicity is left undefined for reducible Markov chains:"
     ]
    },
    {
     "cell_type": "code",
     "collapsed": false,
     "input": [
      "mc3 = MarkovChain([[1, 0], [0, 1]])"
     ],
     "language": "python",
     "metadata": {},
     "outputs": [],
     "prompt_number": 47
    },
    {
     "cell_type": "code",
     "collapsed": false,
     "input": [
      "mc3.is_irreducible"
     ],
     "language": "python",
     "metadata": {},
     "outputs": [
      {
       "metadata": {},
       "output_type": "pyout",
       "prompt_number": 48,
       "text": [
        "False"
       ]
      }
     ],
     "prompt_number": 48
    },
    {
     "cell_type": "code",
     "collapsed": false,
     "input": [
      "mc3.is_aperiodic"
     ],
     "language": "python",
     "metadata": {},
     "outputs": [
      {
       "ename": "NotImplementedError",
       "evalue": "Not defined for a reducible Markov chain",
       "output_type": "pyerr",
       "traceback": [
        "\u001b[0;31m---------------------------------------------------------------------------\u001b[0m\n\u001b[0;31mNotImplementedError\u001b[0m                       Traceback (most recent call last)",
        "\u001b[0;32m<ipython-input-49-e2bd2b21b5ad>\u001b[0m in \u001b[0;36m<module>\u001b[0;34m()\u001b[0m\n\u001b[0;32m----> 1\u001b[0;31m \u001b[0mmc3\u001b[0m\u001b[0;34m.\u001b[0m\u001b[0mis_aperiodic\u001b[0m\u001b[0;34m\u001b[0m\u001b[0m\n\u001b[0m",
        "\u001b[0;32m/Users/oyama/Dropbox/Development/graph_tools/mc_tools.py\u001b[0m in \u001b[0;36mis_aperiodic\u001b[0;34m(self)\u001b[0m\n\u001b[1;32m    133\u001b[0m         \u001b[0;32mif\u001b[0m \u001b[0;32mnot\u001b[0m \u001b[0mself\u001b[0m\u001b[0;34m.\u001b[0m\u001b[0mis_irreducible\u001b[0m\u001b[0;34m:\u001b[0m\u001b[0;34m\u001b[0m\u001b[0m\n\u001b[1;32m    134\u001b[0m             raise NotImplementedError(\n\u001b[0;32m--> 135\u001b[0;31m                 \u001b[0;34m'Not defined for a reducible Markov chain'\u001b[0m\u001b[0;34m\u001b[0m\u001b[0m\n\u001b[0m\u001b[1;32m    136\u001b[0m             )\n\u001b[1;32m    137\u001b[0m         \u001b[0;32melse\u001b[0m\u001b[0;34m:\u001b[0m\u001b[0;34m\u001b[0m\u001b[0m\n",
        "\u001b[0;31mNotImplementedError\u001b[0m: Not defined for a reducible Markov chain"
       ]
      }
     ],
     "prompt_number": 49
    },
    {
     "cell_type": "code",
     "collapsed": false,
     "input": [
      "mc3.period"
     ],
     "language": "python",
     "metadata": {},
     "outputs": [
      {
       "ename": "NotImplementedError",
       "evalue": "Not defined for a reducible Markov chain",
       "output_type": "pyerr",
       "traceback": [
        "\u001b[0;31m---------------------------------------------------------------------------\u001b[0m\n\u001b[0;31mNotImplementedError\u001b[0m                       Traceback (most recent call last)",
        "\u001b[0;32m<ipython-input-50-13254b9bcf14>\u001b[0m in \u001b[0;36m<module>\u001b[0;34m()\u001b[0m\n\u001b[0;32m----> 1\u001b[0;31m \u001b[0mmc3\u001b[0m\u001b[0;34m.\u001b[0m\u001b[0mperiod\u001b[0m\u001b[0;34m\u001b[0m\u001b[0m\n\u001b[0m",
        "\u001b[0;32m/Users/oyama/Dropbox/Development/graph_tools/mc_tools.py\u001b[0m in \u001b[0;36mperiod\u001b[0;34m(self)\u001b[0m\n\u001b[1;32m    142\u001b[0m         \u001b[0;32mif\u001b[0m \u001b[0;32mnot\u001b[0m \u001b[0mself\u001b[0m\u001b[0;34m.\u001b[0m\u001b[0mis_irreducible\u001b[0m\u001b[0;34m:\u001b[0m\u001b[0;34m\u001b[0m\u001b[0m\n\u001b[1;32m    143\u001b[0m             raise NotImplementedError(\n\u001b[0;32m--> 144\u001b[0;31m                 \u001b[0;34m'Not defined for a reducible Markov chain'\u001b[0m\u001b[0;34m\u001b[0m\u001b[0m\n\u001b[0m\u001b[1;32m    145\u001b[0m             )\n\u001b[1;32m    146\u001b[0m         \u001b[0;32melse\u001b[0m\u001b[0;34m:\u001b[0m\u001b[0;34m\u001b[0m\u001b[0m\n",
        "\u001b[0;31mNotImplementedError\u001b[0m: Not defined for a reducible Markov chain"
       ]
      }
     ],
     "prompt_number": 50
    },
    {
     "cell_type": "code",
     "collapsed": false,
     "input": [
      "mc3.cyclic_classes"
     ],
     "language": "python",
     "metadata": {},
     "outputs": [
      {
       "ename": "NotImplementedError",
       "evalue": "Not defined for a reducible Markov chain",
       "output_type": "pyerr",
       "traceback": [
        "\u001b[0;31m---------------------------------------------------------------------------\u001b[0m\n\u001b[0;31mNotImplementedError\u001b[0m                       Traceback (most recent call last)",
        "\u001b[0;32m<ipython-input-51-95e38e278a88>\u001b[0m in \u001b[0;36m<module>\u001b[0;34m()\u001b[0m\n\u001b[0;32m----> 1\u001b[0;31m \u001b[0mmc3\u001b[0m\u001b[0;34m.\u001b[0m\u001b[0mcyclic_classes\u001b[0m\u001b[0;34m\u001b[0m\u001b[0m\n\u001b[0m",
        "\u001b[0;32m/Users/oyama/Dropbox/Development/graph_tools/mc_tools.py\u001b[0m in \u001b[0;36mcyclic_classes\u001b[0;34m(self)\u001b[0m\n\u001b[1;32m    151\u001b[0m         \u001b[0;32mif\u001b[0m \u001b[0;32mnot\u001b[0m \u001b[0mself\u001b[0m\u001b[0;34m.\u001b[0m\u001b[0mis_irreducible\u001b[0m\u001b[0;34m:\u001b[0m\u001b[0;34m\u001b[0m\u001b[0m\n\u001b[1;32m    152\u001b[0m             raise NotImplementedError(\n\u001b[0;32m--> 153\u001b[0;31m                 \u001b[0;34m'Not defined for a reducible Markov chain'\u001b[0m\u001b[0;34m\u001b[0m\u001b[0m\n\u001b[0m\u001b[1;32m    154\u001b[0m             )\n\u001b[1;32m    155\u001b[0m         \u001b[0;32melse\u001b[0m\u001b[0;34m:\u001b[0m\u001b[0;34m\u001b[0m\u001b[0m\n",
        "\u001b[0;31mNotImplementedError\u001b[0m: Not defined for a reducible Markov chain"
       ]
      }
     ],
     "prompt_number": 51
    },
    {
     "cell_type": "code",
     "collapsed": false,
     "input": [],
     "language": "python",
     "metadata": {},
     "outputs": []
    }
   ],
   "metadata": {}
  }
 ]
}